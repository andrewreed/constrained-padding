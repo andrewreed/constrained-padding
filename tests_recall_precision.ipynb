{
 "cells": [
  {
   "cell_type": "markdown",
   "metadata": {},
   "source": [
    "### Import"
   ]
  },
  {
   "cell_type": "code",
   "execution_count": null,
   "metadata": {},
   "outputs": [],
   "source": [
    "import altair as alt\n",
    "\n",
    "%run implementations.ipynb\n",
    "%run utilities.ipynb"
   ]
  },
  {
   "cell_type": "markdown",
   "metadata": {},
   "source": [
    "### Load Data"
   ]
  },
  {
   "cell_type": "code",
   "execution_count": null,
   "metadata": {
    "scrolled": true
   },
   "outputs": [],
   "source": [
    "sizes = pd.read_csv('npmpackages/npm_no_scope_full_stats_nonzero_downloads.csv', header=None)\n",
    "sizes.head()"
   ]
  },
  {
   "cell_type": "code",
   "execution_count": null,
   "metadata": {},
   "outputs": [],
   "source": [
    "sizes = pd.read_csv('unsplash/lite/unsplash_lite.csv', header=None)\n",
    "sizes.head()"
   ]
  },
  {
   "cell_type": "markdown",
   "metadata": {},
   "source": [
    "### Recall-Precision Analysis"
   ]
  },
  {
   "cell_type": "code",
   "execution_count": null,
   "metadata": {},
   "outputs": [],
   "source": [
    "c_list = [1.01, 1.03, 1.05, 1.07, 1.09]\n",
    "conf_list = [0.0, 0.05, 0.1, 0.15, 0.2, 0.25, 0.3, 0.35, 0.4, 0.45, 0.5, 0.55, 0.6, 0.65, 0.7, 0.75, 0.8, 0.85, 0.9, 0.95, 1.]\n",
    "\n",
    "size_list = sizes[1].tolist()\n",
    "\n",
    "size_counts = defaultdict(int)\n",
    "\n",
    "for size in size_list:\n",
    "    size_counts[size] += 1\n",
    "    \n",
    "uniq_sizes = sorted(list(size_counts.keys()))"
   ]
  },
  {
   "cell_type": "code",
   "execution_count": null,
   "metadata": {
    "scrolled": true
   },
   "outputs": [],
   "source": [
    "with open('jsvuln/jsvuln.txt') as f:\n",
    "#with open('nature/nature_urls.txt') as f:\n",
    "    vuln_packages = set(f.read().splitlines())\n",
    "    \n",
    "total_downloads = sizes[2].sum()\n",
    "\n",
    "size_counts = defaultdict(int)\n",
    "\n",
    "for row in sizes.itertuples(index=False):\n",
    "    size_counts[row[1]] += row[2]\n",
    "\n",
    "for row in sizes.itertuples(index=False):\n",
    "    if row[0] in vuln_packages:\n",
    "        print(row[0] + \"\\t\" + str(row[1]) + \"\\t\" + str(row[2]/total_downloads) + \"\\t\" + str(row[2]/size_counts[row[1]]))"
   ]
  },
  {
   "cell_type": "code",
   "execution_count": null,
   "metadata": {},
   "outputs": [],
   "source": [
    "def calc_precision_recall_per_request(size_is_vuln, size_no_vuln, size_counts, c, method, prec_list, recall_list, recall_prec_list):\n",
    "    for conf in conf_list:\n",
    "        TP, TN, FP, FN = 0, 0, 0, 0\n",
    "        for size in size_counts:\n",
    "            if size_counts[size] > 0.:\n",
    "                if size_is_vuln[size] / size_counts[size] >= conf:\n",
    "                    TP += size_is_vuln[size]\n",
    "                    FP += size_no_vuln[size]\n",
    "                else:\n",
    "                    TN += size_no_vuln[size]\n",
    "                    FN += size_is_vuln[size]\n",
    "        \n",
    "        if TP + FP > 0:\n",
    "            prec = TP / (TP + FP)\n",
    "            prec_list[(c, method, conf)] = prec\n",
    "        \n",
    "        if TP + FN > 0:\n",
    "            recall = TP / (TP + FN)        \n",
    "            recall_list[(c, method, conf)] = recall\n",
    "            \n",
    "        if TP + FP > 0 and TP + FN > 0:\n",
    "            recall_prec_list[(c, method, conf)] = (recall, prec)"
   ]
  },
  {
   "cell_type": "code",
   "execution_count": null,
   "metadata": {},
   "outputs": [],
   "source": [
    "def calc_precision_recall(data, c, method, prec_list, recall_list, recall_prec_list):\n",
    "    size_is_vuln = defaultdict(int)\n",
    "    size_no_vuln = defaultdict(int)\n",
    "    size_counts = defaultdict(int)\n",
    "\n",
    "    for row in data.itertuples(index=False):\n",
    "        if row[0] in vuln_packages:\n",
    "            size_is_vuln[row[1]] += row[2]\n",
    "        else:\n",
    "            size_no_vuln[row[1]] += row[2]\n",
    "        size_counts[row[1]] += row[2]\n",
    "\n",
    "    for conf in conf_list:\n",
    "        TP, TN, FP, FN = 0, 0, 0, 0\n",
    "        for size in size_counts:\n",
    "            if size_counts[size] > 0.:\n",
    "                if size_is_vuln[size] / size_counts[size] >= conf:\n",
    "                    TP += size_is_vuln[size]\n",
    "                    FP += size_no_vuln[size]\n",
    "                else:\n",
    "                    TN += size_no_vuln[size]\n",
    "                    FN += size_is_vuln[size]\n",
    "        \n",
    "        if TP + FP > 0:\n",
    "            prec = TP / (TP + FP)\n",
    "            prec_list[(c, method, conf)] = prec\n",
    "        \n",
    "        if TP + FN > 0:\n",
    "            recall = TP / (TP + FN)        \n",
    "            recall_list[(c, method, conf)] = recall\n",
    "            \n",
    "        if TP + FP > 0 and TP + FN > 0:\n",
    "            recall_prec_list[(c, method, conf)] = (recall, prec)"
   ]
  },
  {
   "cell_type": "code",
   "execution_count": null,
   "metadata": {},
   "outputs": [],
   "source": [
    "prec_list = {}\n",
    "recall_list = {}\n",
    "recall_prec_list = {}"
   ]
  },
  {
   "cell_type": "code",
   "execution_count": null,
   "metadata": {},
   "outputs": [],
   "source": [
    "for c in c_list:\n",
    "    size_is_vuln, size_no_vuln, size_counts = BlahutArimoto_return_vuln(sizes, c, vuln_packages, max_itr=10000000, eps=5e-3)\n",
    "    \n",
    "    calc_precision_recall_per_request(size_is_vuln, size_no_vuln, size_counts, c, \"MI_per_request\", prec_list, recall_list, recall_prec_list)\n",
    "    print(c)"
   ]
  },
  {
   "cell_type": "code",
   "execution_count": null,
   "metadata": {},
   "outputs": [],
   "source": [
    "for c in c_list:\n",
    "    size_is_vuln, size_no_vuln, size_counts = p_alpaca_no_metrics_return_vuln(sizes, c, vuln_packages)\n",
    "\n",
    "    calc_precision_recall_per_request(size_is_vuln, size_no_vuln, size_counts, c, \"P-ALPaCA\", prec_list, recall_list, recall_prec_list)\n",
    "    print(c)"
   ]
  },
  {
   "cell_type": "code",
   "execution_count": null,
   "metadata": {},
   "outputs": [],
   "source": [
    "for c in c_list:\n",
    "    partition, dyn_solution = opt_partition_MI(sizes, c)\n",
    "\n",
    "    size_map = {}    \n",
    "    current_block = 0\n",
    "    current_ceiling = partition[current_block][1]\n",
    "\n",
    "    for size in uniq_sizes:\n",
    "        if size > current_ceiling:\n",
    "            current_block += 1\n",
    "            current_ceiling = partition[current_block][1]\n",
    "        size_map[size] = current_ceiling\n",
    "\n",
    "    dyn_list = []\n",
    "\n",
    "    for row in sizes.itertuples(index=False):\n",
    "        dyn_size = size_map[row[1]]\n",
    "        dyn_list.append((row[0], dyn_size, row[2]))\n",
    "    \n",
    "    dyn_sizes = pd.DataFrame(dyn_list)\n",
    "\n",
    "    calc_precision_recall(dyn_sizes, c, \"MI_per_object\", prec_list, recall_list, recall_prec_list)\n",
    "    print(c)"
   ]
  },
  {
   "cell_type": "code",
   "execution_count": null,
   "metadata": {},
   "outputs": [],
   "source": [
    "for c in c_list:\n",
    "    size_map = pureMaxL(sizes, c)    \n",
    "    current_block = 0\n",
    "    current_ceiling = partition[current_block][1]\n",
    "\n",
    "    dyn_list = []\n",
    "\n",
    "    for row in sizes.itertuples(index=False):\n",
    "        dyn_size = size_map[row[1]]\n",
    "        dyn_list.append((row[0], dyn_size, row[2]))\n",
    "    \n",
    "    dyn_sizes = pd.DataFrame(dyn_list)\n",
    "\n",
    "    calc_precision_recall(dyn_sizes, c, \"Pure_MaxL\", prec_list, recall_list, recall_prec_list)\n",
    "    print(c)"
   ]
  },
  {
   "cell_type": "code",
   "execution_count": null,
   "metadata": {},
   "outputs": [],
   "source": [
    "padme_list = []\n",
    "\n",
    "for row in sizes.itertuples(index=False):\n",
    "    padme_size = getPadme(row[1])\n",
    "    padme_list.append((row[0], padme_size, row[2]))\n",
    "    \n",
    "padme_sizes = pd.DataFrame(padme_list)\n",
    "\n",
    "calc_precision_recall(padme_sizes, 1.03, \"Padme\", prec_list, recall_list, recall_prec_list)"
   ]
  },
  {
   "cell_type": "code",
   "execution_count": null,
   "metadata": {},
   "outputs": [],
   "source": [
    "for c in c_list:\n",
    "    min_size = sizes[1].min()\n",
    "    bin_size = int(c*min_size) - min_size\n",
    "    \n",
    "    d_alpaca_list = []\n",
    "\n",
    "    for row in sizes.itertuples(index=False):\n",
    "        d_alpaca_size = getDALPaCA(row[1], bin_size)\n",
    "        d_alpaca_list.append((row[0], d_alpaca_size, row[2]))\n",
    "    \n",
    "    d_alpaca_sizes = pd.DataFrame(d_alpaca_list)\n",
    "\n",
    "    calc_precision_recall(d_alpaca_sizes, c, \"D-ALPaCA\", prec_list, recall_list, recall_prec_list)\n",
    "    print(c)"
   ]
  },
  {
   "cell_type": "code",
   "execution_count": null,
   "metadata": {},
   "outputs": [],
   "source": [
    "new_prec_list = [0] * len(prec_list)\n",
    "new_recall_list = [0] * len(recall_list)\n",
    "new_recall_prec_list = [0] * len(recall_prec_list)\n",
    "\n",
    "i = 0\n",
    "for key, value in prec_list.items():\n",
    "    new_prec_list[i] = (key[0], key[1], key[2], value)\n",
    "    i += 1\n",
    "    \n",
    "i = 0\n",
    "for key, value in recall_list.items():\n",
    "    new_recall_list[i] = (key[0], key[1], key[2], value)\n",
    "    i += 1\n",
    "    \n",
    "i = 0\n",
    "for key, value in recall_prec_list.items():\n",
    "    new_recall_prec_list[i] = (key[0], key[1], key[2], value[0], value[1])\n",
    "    i += 1"
   ]
  },
  {
   "cell_type": "code",
   "execution_count": null,
   "metadata": {},
   "outputs": [],
   "source": [
    "df_prec = pd.DataFrame(new_prec_list, columns =['c', 'Method', 'Confidence', 'Precision'])\n",
    "df_recall = pd.DataFrame(new_recall_list, columns =['c', 'Method', 'Confidence', 'Recall'])\n",
    "df_recall_prec = pd.DataFrame(new_recall_prec_list, columns =['c', 'Method', 'Confidence', 'Recall', 'Precision'])"
   ]
  },
  {
   "cell_type": "code",
   "execution_count": null,
   "metadata": {},
   "outputs": [],
   "source": [
    "df_recall_prec_temp = df_recall_prec.loc[df_recall_prec['c'] == 1.09, ['Method', 'Recall', 'Precision']]\n",
    "\n",
    "alt.Chart(df_recall_prec_temp).mark_line().encode(\n",
    "    x='Recall',\n",
    "    y='Precision',\n",
    "    color='Method',\n",
    "    strokeDash='Method',\n",
    ")"
   ]
  },
  {
   "cell_type": "code",
   "execution_count": null,
   "metadata": {},
   "outputs": [],
   "source": [
    "df_recall_prec.to_csv('evaluation/recall-precision-unsplash.csv')"
   ]
  },
  {
   "cell_type": "markdown",
   "metadata": {},
   "source": [
    "__Print__ $\\LaTeX{}$"
   ]
  },
  {
   "cell_type": "code",
   "execution_count": null,
   "metadata": {},
   "outputs": [],
   "source": [
    "df_recall_prec = pd.read_csv('evaluation/recall-precision-unsplash.csv')\n",
    "df_recall_prec.head()"
   ]
  },
  {
   "cell_type": "code",
   "execution_count": null,
   "metadata": {},
   "outputs": [],
   "source": [
    "methods = [\"MI_per_request\", \"MI_per_object\", \"P-ALPaCA\", \"Pure_MaxL\", \"Padme\", \"D-ALPaCA\"]\n",
    "legend = {\n",
    "          \"MI_per_request\": \"[line width=1pt, densely dotted, curvecolor]\", \n",
    "          \"MI_per_object\": \"[line width=1pt, dash pattern=on 1pt off 3pt on 3pt off 3pt, curvecolor]\", \n",
    "          \"P-ALPaCA\": \"[line width=1pt, densely dotted, black]\", \n",
    "          \"Pure_MaxL\": \"[line width=1pt, solid, curvecolor]\", \n",
    "          \"Padme\": \"[line width=1pt, solid, black]\", \n",
    "          \"D-ALPaCA\": \"[line width=1pt, dash pattern=on 1pt off 3pt on 3pt off 3pt, black]\"\n",
    "         }"
   ]
  },
  {
   "cell_type": "code",
   "execution_count": null,
   "metadata": {},
   "outputs": [],
   "source": [
    "df_recall_prec_temp = df_recall_prec.loc[df_recall_prec['c'] == 1.09, ['Method', 'Recall', 'Precision']]\n",
    "\n",
    "for method in methods:\n",
    "    df_method_temp = df_recall_prec_temp.loc[df_recall_prec_temp['Method'] == method, ['Recall', 'Precision']]\n",
    "    print(\"\\\\addplot \" + legend[method])\n",
    "    print(\"table {%\")\n",
    "    for row in df_method_temp.itertuples():\n",
    "        print(str(row.Recall) + ' ' + str(row.Precision))        \n",
    "    print(\"};\")"
   ]
  }
 ],
 "metadata": {
  "kernelspec": {
   "display_name": "Python 3",
   "language": "python",
   "name": "python3"
  },
  "language_info": {
   "codemirror_mode": {
    "name": "ipython",
    "version": 3
   },
   "file_extension": ".py",
   "mimetype": "text/x-python",
   "name": "python",
   "nbconvert_exporter": "python",
   "pygments_lexer": "ipython3",
   "version": "3.8.5"
  }
 },
 "nbformat": 4,
 "nbformat_minor": 4
}
